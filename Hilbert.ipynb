{
 "cells": [
  {
   "cell_type": "code",
   "execution_count": 3,
   "metadata": {},
   "outputs": [],
   "source": [
    "import sys, math\n",
    "  \n",
    "def hilbert(x0, y0, xi, xj, yi, yj, n):\n",
    "    if n <= 0:\n",
    "        X = x0 + (xi + yi)/2\n",
    "        Y = y0 + (xj + yj)/2\n",
    "        \n",
    "        # Output the coordinates of the cv\n",
    "        print ('%s %s 0' % (X, Y))\n",
    "    else:\n",
    "        hilbert(x0,               y0,               yi/2, yj/2, xi/2, xj/2, n - 1)\n",
    "        hilbert(x0 + xi/2,        y0 + xj/2,        xi/2, xj/2, yi/2, yj/2, n - 1)\n",
    "        hilbert(x0 + xi/2 + yi/2, y0 + xj/2 + yj/2, xi/2, xj/2, yi/2, yj/2, n - 1)\n",
    "        hilbert(x0 + xi/2 + yi,   y0 + xj/2 + yj,  -yi/2,-yj/2,-xi/2,-xj/2, n - 1)\n",
    "        \n",
    "def main():\n",
    "    args = sys.stdin.readline()\n",
    "    # Remain the loop until the renderer releases the helper...\n",
    "    while args:\n",
    "        arg = args.split()\n",
    "        # Get the inputs\n",
    "        pixels = float(arg[0])\n",
    "        ctype = arg[1]\n",
    "        reps = int(arg[2])\n",
    "        width = float(arg[3])\n",
    "        \n",
    "        # Calculate the number of curve cv's\n",
    "        cvs = int(math.pow(4, reps))\n",
    "            \n",
    "        # Begin the RenderMan curve statement\n",
    "        print ('Basis \\\"b-spline\\\" 1 \\\"b-spline\\\" 1')\n",
    "        print ('Curves \\\"%s\\\" [%s] \\\"nonperiodic\\\" \\\"P\\\" [' % (ctype, cvs))\n",
    "    \n",
    "        # Create the curve\n",
    "        hilbert(0.0, 0.0, 1.0, 0.0, 0.0, 1.0, reps)\n",
    "    \n",
    "        # End the curve statement\n",
    "        print ('] \\\"constantwidth\\\" [%s]' % width)\n",
    "      \n",
    "        # Tell the renderer we have finished   \n",
    "        sys.stdout.write('\\377')\n",
    "        sys.stdout.flush()\n",
    "        \n",
    "        # read the next set of inputs\n",
    "        args = sys.stdin.readline()\n",
    "if __name__ == \"__main__\":\n",
    "    main()\n"
   ]
  },
  {
   "cell_type": "code",
   "execution_count": null,
   "metadata": {},
   "outputs": [],
   "source": []
  }
 ],
 "metadata": {
  "kernelspec": {
   "display_name": "Python 3",
   "language": "python",
   "name": "python3"
  },
  "language_info": {
   "codemirror_mode": {
    "name": "ipython",
    "version": 3
   },
   "file_extension": ".py",
   "mimetype": "text/x-python",
   "name": "python",
   "nbconvert_exporter": "python",
   "pygments_lexer": "ipython3",
   "version": "3.7.4"
  }
 },
 "nbformat": 4,
 "nbformat_minor": 2
}
